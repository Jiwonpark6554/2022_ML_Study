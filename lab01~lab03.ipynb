{
  "nbformat": 4,
  "nbformat_minor": 0,
  "metadata": {
    "colab": {
      "name": "lab01~lab03.ipynb",
      "provenance": [],
      "collapsed_sections": [],
      "authorship_tag": "ABX9TyM+4zpnXZn0ljjtfotar1MI",
      "include_colab_link": true
    },
    "kernelspec": {
      "name": "python3",
      "display_name": "Python 3"
    },
    "language_info": {
      "name": "python"
    }
  },
  "cells": [
    {
      "cell_type": "markdown",
      "metadata": {
        "id": "view-in-github",
        "colab_type": "text"
      },
      "source": [
        "<a href=\"https://colab.research.google.com/github/ChaeyeonHan/2022_ML_Study/blob/main/lab01~lab03.ipynb\" target=\"_parent\"><img src=\"https://colab.research.google.com/assets/colab-badge.svg\" alt=\"Open In Colab\"/></a>"
      ]
    },
    {
      "cell_type": "markdown",
      "source": [
        "# Lab01"
      ],
      "metadata": {
        "id": "z79d7R2mb5nu"
      }
    },
    {
      "cell_type": "code",
      "execution_count": null,
      "metadata": {
        "colab": {
          "base_uri": "https://localhost:8080/"
        },
        "id": "fkg-QI_kLsIf",
        "outputId": "0de3bd7f-d5c6-4f90-8672-00bf94fd0206"
      },
      "outputs": [
        {
          "output_type": "stream",
          "name": "stdout",
          "text": [
            "Train on 60000 samples\n",
            "Epoch 1/5\n",
            "60000/60000 [==============================] - 4s 74us/sample - loss: 0.2939 - acc: 0.9136\n",
            "Epoch 2/5\n",
            "60000/60000 [==============================] - 4s 72us/sample - loss: 0.1428 - acc: 0.9577\n",
            "Epoch 3/5\n",
            "60000/60000 [==============================] - 4s 72us/sample - loss: 0.1096 - acc: 0.9670\n",
            "Epoch 4/5\n",
            "60000/60000 [==============================] - 4s 70us/sample - loss: 0.0895 - acc: 0.9720\n",
            "Epoch 5/5\n",
            "60000/60000 [==============================] - 5s 80us/sample - loss: 0.0755 - acc: 0.9767\n"
          ]
        },
        {
          "output_type": "stream",
          "name": "stderr",
          "text": [
            "/usr/local/lib/python3.7/dist-packages/keras/engine/training_v1.py:2057: UserWarning: `Model.state_updates` will be removed in a future version. This property should not be used in TensorFlow 2.0, as `updates` are applied automatically.\n",
            "  updates = self.state_updates\n"
          ]
        },
        {
          "output_type": "execute_result",
          "data": {
            "text/plain": [
              "[0.07397478409912438, 0.9769]"
            ]
          },
          "metadata": {},
          "execution_count": 9
        }
      ],
      "source": [
        "# 텐서플로우 설치 확인(코랩은 설치 필요 X)\n",
        "import tensorflow as tf\n",
        "mnist = tf.keras.datasets.mnist\n",
        "\n",
        "(x_train, y_train),(x_test, y_test) = mnist.load_data()\n",
        "x_train, x_test = x_train / 255.0, x_test / 255.0\n",
        "\n",
        "model = tf.keras.models.Sequential([\n",
        "  tf.keras.layers.Flatten(input_shape=(28, 28)),\n",
        "  tf.keras.layers.Dense(128, activation='relu'),\n",
        "  tf.keras.layers.Dropout(0.2),\n",
        "  tf.keras.layers.Dense(10, activation='softmax')\n",
        "])\n",
        "\n",
        "model.compile(optimizer='adam',\n",
        "              loss='sparse_categorical_crossentropy',\n",
        "              metrics=['accuracy'])\n",
        "\n",
        "model.fit(x_train, y_train, epochs=5)\n",
        "model.evaluate(x_test, y_test)"
      ]
    },
    {
      "cell_type": "code",
      "source": [
        "import tensorflow as tf\n",
        "tf.__version__"
      ],
      "metadata": {
        "colab": {
          "base_uri": "https://localhost:8080/",
          "height": 36
        },
        "id": "ud9pbK6aLvL6",
        "outputId": "d60c9823-b77d-4812-f187-64eceb247731"
      },
      "execution_count": null,
      "outputs": [
        {
          "output_type": "execute_result",
          "data": {
            "application/vnd.google.colaboratory.intrinsic+json": {
              "type": "string"
            },
            "text/plain": [
              "'2.7.0'"
            ]
          },
          "metadata": {},
          "execution_count": 10
        }
      ]
    },
    {
      "cell_type": "code",
      "source": [
        "# 텐서플로우가 2.0대 버전으로 넘어가면서 더이상 session모듈을 지원하지 X\n",
        "# print를 사용하면 값이 바로 출력되지 않고. session.run()을 이용한다. -> forward함수\n",
        "#   https://www.tensorflow.org/guide/migrate?hl=ko\n",
        "# 결과에서 b는 bytes literal\n",
        "\n",
        "import tensorflow.compat.v1 as tf\n",
        "tf.disable_v2_behavior()\n",
        "hello = tf.constant(\"Hello, Tensorflow!\")\n",
        "\n",
        "sess = tf.Session()\n",
        "print(sess.run(hello))"
      ],
      "metadata": {
        "colab": {
          "base_uri": "https://localhost:8080/"
        },
        "id": "4GcD60uRLyMU",
        "outputId": "7fc3b1ce-2530-4683-b097-6c81066c190d"
      },
      "execution_count": null,
      "outputs": [
        {
          "output_type": "stream",
          "name": "stdout",
          "text": [
            "b'Hello, Tensorflow!'\n"
          ]
        }
      ]
    },
    {
      "cell_type": "code",
      "source": [
        "node1 = tf.constant(3.0, tf.float32)\n",
        "node2 = tf.constant(4.0)\n",
        "node3 = tf.add(node1, node2)\n",
        "\n",
        "# print(\"node1: \", node1, \"node2: \", node2)\n",
        "# print(\"node3: \", node3)\n",
        "\n",
        "def forward():\n",
        "    return node1+node2\n",
        "output = forward()\n",
        "print(output)\n",
        "\n",
        "sess = tf.Session()\n",
        "print(\"sess.run(node1, node2): \", sess.run([node1, node2]))\n",
        "print(\"sess.run(node3): \", sess.run(node3))"
      ],
      "metadata": {
        "colab": {
          "base_uri": "https://localhost:8080/"
        },
        "id": "HgK3-KB3L0Uy",
        "outputId": "306b2fa8-fe0f-47d2-aa42-4c2129c9e200"
      },
      "execution_count": null,
      "outputs": [
        {
          "output_type": "stream",
          "name": "stdout",
          "text": [
            "Tensor(\"add_4:0\", shape=(), dtype=float32)\n",
            "sess.run(node1, node2):  [3.0, 4.0]\n",
            "sess.run(node3):  7.0\n"
          ]
        }
      ]
    },
    {
      "cell_type": "code",
      "source": [
        "# placeholder : 심볼릭 변수를 정의, constant()함수를 이용해서 상수 정의\n",
        "a = tf.placeholder(tf.float32)\n",
        "b = tf.placeholder(tf.float32)\n",
        "adder_node = a + b\n",
        "\n",
        "print(sess.run(adder_node, feed_dict={a:3, b:4.5}))\n",
        "print(sess.run(adder_node, feed_dict={a:[1, 3], b:[2, 4]}))"
      ],
      "metadata": {
        "colab": {
          "base_uri": "https://localhost:8080/"
        },
        "id": "h-_ZGeE2L0O7",
        "outputId": "533536fc-d99d-4351-d047-89d257f35de6"
      },
      "execution_count": null,
      "outputs": [
        {
          "output_type": "stream",
          "name": "stdout",
          "text": [
            "7.5\n",
            "[3. 7.]\n"
          ]
        }
      ]
    },
    {
      "cell_type": "markdown",
      "source": [
        "# 머신러닝 분류\n",
        "머신러닝의 학습방법에 따라 세가지로 나눌 수 있다. \n",
        "\n",
        "1. 지도학습(Supervised Learning)\n",
        "\n",
        "2. 비지도학습(Unsupervised Learning)\n",
        "\n",
        "3. 강화학습(Reinforcement Learning)\n",
        "\n",
        "\n",
        "# 지도학습\n",
        "지도학습은 문제와 정답(labeled data, training set)을 알려주고 학습시키는 방법이다. \n",
        "\n",
        "예를 들어, 고양이의 사진을 주고 이건 고양이라고 알려주며 학습시킨다.(label이 달린 자료) \n",
        "\n",
        "\n",
        "1-1) 회귀(Regression)\n",
        "\n",
        "    : 예측하고 싶은 종속변수가 양적데이터(숫자)일때 사용한다.\n",
        "\n",
        "      어떤 데이터들의 특징을 바탕으로 값을 예측하는 방법이다. \n",
        "      ex) 시험 점수 예측 \n",
        "\n",
        "1-2) 분류(Classification)\n",
        "\n",
        "    : 대상을 그룹핑하는 방식이다. 종속변수가 범주형데이터(이름)일때 사용한다. \n",
        "\n",
        "      이진분류(Binary Classification) : P/F 처럼 두가지 중에 하나로 분류하는 것\n",
        "      다중분류(Multi-label Classification) : 여러개의 값들 중에 하나로 분류하는 것 ex) 학점\n",
        "\n",
        " \n",
        "\n",
        "# 비지도학습\n",
        "지도학습과는 달리, 컴퓨터에게 정답을 알려주지 않고, 데이터에 대한 통찰력을 부여하는 것이다. (label이 정해지지X)\n",
        "\n",
        "사람과 고양이, 강아지의 사진을 주고 사진이 어느 class에 속하는지 알려주지 않고, 컴퓨터 각 사진들을 보며 특징을 파악해 학습하는 것이다. \n",
        "\n",
        "2-1) 군집화(Cluster)\n",
        "\n",
        "    : 비슷한 것들을 찾아 그룹을 만드는 것 (어떤 그룹에 속하는지 찾는 것) \n",
        "\n",
        "2-2) 연관규칙학습(Associated Rule Learning)\n",
        "\n",
        "    : 비슷한 것들을 찾아 그룹을 만드는 것 \n",
        "      ex) 라면구매자 -> 계란을 산다 -> 라면과 계란의 상관관계가 무엇일까\n",
        "\n",
        "\n",
        "# 강화학습\n",
        "강화학습은 일단 해보고 경험을 통해 방법을 얻는 것이다. \n",
        "\n",
        "상와 벌이라는 보상(reward)을 통해 상을 최대화, 보상을 최소화 하도록 학습하는 방식 \n",
        "\n",
        " \n",
        "\n",
        "강화학습의 대표적인 알고리즘 : Q-러닝, SARSA, 인공신경망을 사용한 DQN\n"
      ],
      "metadata": {
        "id": "2ssUS8B5MmHn"
      }
    },
    {
      "cell_type": "markdown",
      "source": [
        "# Linear Regression\n",
        "H(x) = Wx + b (일차방정식의 형태)\n",
        "\n",
        "머신러닝 알고리즘 중 하나로 데이터를 가장 잘 설명할 수 있는 1차 함수를 찾는 방법\n",
        "\n",
        "실제 데이터와 가설의 데이터의 거리를 Cost(Loss) function이라고 한다. \n",
        "(우리가 세운 가설과 실제 데이터가 얼마나 다른가)\n",
        "\n",
        "선형회귀의 목표는 입력데이터(x)와 타깃데이터(y)를 통해 기울기와 절편을 찾는 것이다. \n",
        "\n",
        "![image.png](data:image/png;base64,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)\n",
        "\n",
        "# Cost Function\n",
        "\n",
        "![image.png](data:image/png;base64,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)\n",
        "\n",
        "\n",
        "차를 제곱해준다. \n",
        "\n",
        "-> 차가 +/-인 경우에 서로 상쇄되는 것을 방지하고, 제곱을 해줌으로써 패널티를 크게 만들어준다.  \n",
        "\n",
        "가장 작은 값 만드는 W와 b를 찾는 것이 선형회귀의 목적"
      ],
      "metadata": {
        "id": "1kvpia0mSpUU"
      }
    },
    {
      "cell_type": "markdown",
      "source": [
        "# Lab02\n",
        "\n",
        "- build graph using tensorflow operations (그래프 build)\n",
        "- feed data and run graph (그래프 실행)\n",
        "- update variables in the graph (그래프를 update)"
      ],
      "metadata": {
        "id": "OB_n6d7ub9cb"
      }
    },
    {
      "cell_type": "code",
      "source": [
        "# 첫번째 단계 : 그래프 구현\n",
        "# x와 y의 값이 주어진다.\n",
        "x_train = [1, 2, 3]\n",
        "y_train = [1, 2, 3]\n",
        "\n",
        "# W와 b를 정의 : Variable로 정의, 랜덤한 수를 준다\n",
        "W = tf.Variable(tf.random_normal([1]), name='weight')\n",
        "b = tf.Variable(tf.random_normal([1]), name='bias')\n",
        "\n",
        "# 우리의 가설\n",
        "hypothesis = x_train * W + b\n",
        "\n",
        "# cost function : 차를 제곱해 평균내준다\n",
        "cost = tf.reduce_mean(tf.square(hypothesis - y_train))  # tf.reduce_mean(리스트)\n",
        "\n",
        "# 비용 최소화를 위해 Gradient Descent 사용\n",
        "optimizer = tf.train.GradientDescentOptimizer(learning_rate=0.01)\n",
        "train = optimizer.minimize(cost)"
      ],
      "metadata": {
        "id": "mKMcdxyULz_n"
      },
      "execution_count": null,
      "outputs": []
    },
    {
      "cell_type": "code",
      "source": [
        "# 두번째 단계\n",
        "# 실행을 위해 sess를 만들고, 변수 초기화를 시켜준다. \n",
        "sess = tf.Session()\n",
        "sess.run(tf.global_variables_initializer())\n",
        "\n",
        "# 학습이 일어나며, 비용과 W, b의 값이 변한다. (W=1, b=0이 정답)\n",
        "for step in range(2001):\n",
        "  sess.run(train)\n",
        "  if step % 20 == 0:\n",
        "    print(step, sess.run(cost), sess.run(W), sess.run(b))"
      ],
      "metadata": {
        "colab": {
          "base_uri": "https://localhost:8080/"
        },
        "id": "dznEa1QdeLNN",
        "outputId": "faa78281-ea4d-450a-e722-a8c3217d9d8e"
      },
      "execution_count": null,
      "outputs": [
        {
          "output_type": "stream",
          "name": "stdout",
          "text": [
            "0 9.327887 [-0.1790023] [-0.54047585]\n",
            "20 0.08461646 [0.89463824] [-0.06715363]\n",
            "40 0.00080638676 [0.9965452] [-0.02134684]\n",
            "60 4.290817e-05 [1.0059396] [-0.01628248]\n",
            "80 3.2719443e-05 [1.0065395] [-0.0151306]\n",
            "100 2.9659475e-05 [1.0063158] [-0.01438265]\n",
            "120 2.693624e-05 [1.006027] [-0.01370318]\n",
            "140 2.4463763e-05 [1.0057445] [-0.01305881]\n",
            "160 2.2218386e-05 [1.0054746] [-0.01244506]\n",
            "180 2.017916e-05 [1.0052173] [-0.0118602]\n",
            "200 1.83274e-05 [1.0049721] [-0.01130285]\n",
            "220 1.664521e-05 [1.0047385] [-0.01077163]\n",
            "240 1.5117476e-05 [1.0045158] [-0.01026541]\n",
            "260 1.3729954e-05 [1.0043036] [-0.00978296]\n",
            "280 1.2469493e-05 [1.0041013] [-0.0093232]\n",
            "300 1.1324729e-05 [1.0039085] [-0.00888503]\n",
            "320 1.02853965e-05 [1.0037249] [-0.00846747]\n",
            "340 9.341544e-06 [1.0035498] [-0.00806955]\n",
            "360 8.483969e-06 [1.003383] [-0.0076903]\n",
            "380 7.705668e-06 [1.003224] [-0.00732892]\n",
            "400 6.998225e-06 [1.0030725] [-0.00698448]\n",
            "420 6.3557673e-06 [1.0029281] [-0.00665624]\n",
            "440 5.7725388e-06 [1.0027905] [-0.00634344]\n",
            "460 5.24298e-06 [1.0026594] [-0.00604534]\n",
            "480 4.7618455e-06 [1.0025345] [-0.00576127]\n",
            "500 4.3247705e-06 [1.0024153] [-0.00549054]\n",
            "520 3.9278466e-06 [1.0023018] [-0.0052325]\n",
            "540 3.567304e-06 [1.0021937] [-0.00498665]\n",
            "560 3.2400012e-06 [1.0020907] [-0.00475235]\n",
            "580 2.9427072e-06 [1.0019925] [-0.00452908]\n",
            "600 2.6726268e-06 [1.0018988] [-0.00431627]\n",
            "620 2.4272415e-06 [1.0018095] [-0.00411347]\n",
            "640 2.2045722e-06 [1.0017246] [-0.0039202]\n",
            "660 2.002237e-06 [1.0016435] [-0.00373599]\n",
            "680 1.8185025e-06 [1.0015663] [-0.00356046]\n",
            "700 1.6517265e-06 [1.0014929] [-0.00339322]\n",
            "720 1.5002494e-06 [1.0014226] [-0.00323384]\n",
            "740 1.3626508e-06 [1.0013558] [-0.0030819]\n",
            "760 1.2376137e-06 [1.0012922] [-0.00293713]\n",
            "780 1.1240339e-06 [1.0012316] [-0.0027992]\n",
            "800 1.021045e-06 [1.0011736] [-0.00266774]\n",
            "820 9.273101e-07 [1.0011184] [-0.00254246]\n",
            "840 8.4231255e-07 [1.0010659] [-0.00242306]\n",
            "860 7.6506717e-07 [1.0010158] [-0.00230929]\n",
            "880 6.949187e-07 [1.0009681] [-0.00220087]\n",
            "900 6.312552e-07 [1.0009228] [-0.00209758]\n",
            "920 5.733356e-07 [1.0008795] [-0.0019991]\n",
            "940 5.2085403e-07 [1.0008384] [-0.00190526]\n",
            "960 4.7301157e-07 [1.0007991] [-0.00181582]\n",
            "980 4.2961582e-07 [1.0007614] [-0.00173059]\n",
            "1000 3.9025238e-07 [1.0007256] [-0.00164942]\n",
            "1020 3.545878e-07 [1.0006919] [-0.00157205]\n",
            "1040 3.220581e-07 [1.0006592] [-0.00149828]\n",
            "1060 2.9255227e-07 [1.0006282] [-0.00142803]\n",
            "1080 2.658121e-07 [1.000599] [-0.00136101]\n",
            "1100 2.4136418e-07 [1.0005707] [-0.00129719]\n",
            "1120 2.1936104e-07 [1.0005442] [-0.00123637]\n",
            "1140 1.9922943e-07 [1.0005184] [-0.00117835]\n",
            "1160 1.8102462e-07 [1.0004945] [-0.00112319]\n",
            "1180 1.6439816e-07 [1.0004709] [-0.00107052]\n",
            "1200 1.4938955e-07 [1.0004492] [-0.00102035]\n",
            "1220 1.356773e-07 [1.0004277] [-0.00097255]\n",
            "1240 1.2325233e-07 [1.000408] [-0.00092688]\n",
            "1260 1.12007534e-07 [1.000389] [-0.0008836]\n",
            "1280 1.0173298e-07 [1.0003705] [-0.00084209]\n",
            "1300 9.2478274e-08 [1.0003535] [-0.00080267]\n",
            "1320 8.403034e-08 [1.0003368] [-0.0007652]\n",
            "1340 7.626548e-08 [1.0003208] [-0.00072921]\n",
            "1360 6.933623e-08 [1.0003061] [-0.00069508]\n",
            "1380 6.302586e-08 [1.0002918] [-0.00066272]\n",
            "1400 5.722299e-08 [1.0002778] [-0.00063161]\n",
            "1420 5.1975444e-08 [1.000265] [-0.00060193]\n",
            "1440 4.7282125e-08 [1.0002528] [-0.00057386]\n",
            "1460 4.2977018e-08 [1.0002409] [-0.00054717]\n",
            "1480 3.8984137e-08 [1.0002292] [-0.00052144]\n",
            "1500 3.541702e-08 [1.0002187] [-0.0004969]\n",
            "1520 3.2197253e-08 [1.0002087] [-0.00047371]\n",
            "1540 2.9291195e-08 [1.0001992] [-0.00045178]\n",
            "1560 2.6619603e-08 [1.0001897] [-0.0004308]\n",
            "1580 2.4173922e-08 [1.0001804] [-0.00041049]\n",
            "1600 2.1950235e-08 [1.0001721] [-0.00039114]\n",
            "1620 1.9958264e-08 [1.0001642] [-0.00037286]\n",
            "1640 1.8140016e-08 [1.0001568] [-0.00035555]\n",
            "1660 1.6508743e-08 [1.0001496] [-0.00033916]\n",
            "1680 1.5007345e-08 [1.0001425] [-0.00032347]\n",
            "1700 1.3612646e-08 [1.0001353] [-0.00030823]\n",
            "1720 1.2361535e-08 [1.000129] [-0.00029361]\n",
            "1740 1.1237392e-08 [1.0001231] [-0.00027976]\n",
            "1760 1.0212617e-08 [1.0001174] [-0.00026669]\n",
            "1780 9.292624e-09 [1.0001122] [-0.0002543]\n",
            "1800 8.452303e-09 [1.000107] [-0.0002426]\n",
            "1820 7.700901e-09 [1.0001023] [-0.00023152]\n",
            "1840 7.0110624e-09 [1.0000975] [-0.00022095]\n",
            "1860 6.3709167e-09 [1.0000927] [-0.00021072]\n",
            "1880 5.7733636e-09 [1.000088] [-0.00020072]\n",
            "1900 5.228049e-09 [1.0000838] [-0.00019108]\n",
            "1920 4.746306e-09 [1.0000799] [-0.00018195]\n",
            "1940 4.3044013e-09 [1.0000762] [-0.00017333]\n",
            "1960 3.915019e-09 [1.0000727] [-0.00016518]\n",
            "1980 3.559113e-09 [1.0000694] [-0.00015747]\n",
            "2000 3.2391039e-09 [1.0000663] [-0.00015018]\n"
          ]
        }
      ]
    },
    {
      "cell_type": "code",
      "source": [
        "# placeholder를 사용해보기\n",
        "# 사용 이유 : 만들어진 모델에 대해서 값을 따로 넘겨줄 수 있다. 모델을 만들고 값을 변경시키며 shape도 함께 줄 수 있음.\n",
        "# placeholder : 선언과 동시에 초기화하는 것이 아니라 일단 선언 후 그 다음에 값을 전달한다.\n",
        "# 반드시 실행시 데이터가 전달되어야 한다. \n",
        "\n",
        "X = tf.placeholder(tf.float32)\n",
        "Y = tf.placeholder(tf.float32)\n",
        "\n",
        "for step in range(2001):\n",
        "  cost_val, W_val, b_val, _ = \\\n",
        "  sess.run([cost, W, b, train], \n",
        "            feed_dict={X:[1, 2, 3], Y:[1, 2, 3]})  # feed_dict로 값을 넘겨주기\n",
        "  if step % 20 == 0:\n",
        "    print(step, cost_val, W_val, b_val)"
      ],
      "metadata": {
        "colab": {
          "base_uri": "https://localhost:8080/"
        },
        "id": "EyTAO8W8hOae",
        "outputId": "3549c9d0-7ea5-4dbb-f39e-efba75263812"
      },
      "execution_count": null,
      "outputs": [
        {
          "output_type": "stream",
          "name": "stdout",
          "text": [
            "0 1.3323465e-11 [1.0000044] [-8.861246e-06]\n",
            "20 1.3323465e-11 [1.0000044] [-8.861246e-06]\n",
            "40 1.3323465e-11 [1.0000044] [-8.861246e-06]\n",
            "60 1.3323465e-11 [1.0000044] [-8.861246e-06]\n",
            "80 1.3323465e-11 [1.0000044] [-8.861246e-06]\n",
            "100 1.3323465e-11 [1.0000044] [-8.861246e-06]\n",
            "120 1.3323465e-11 [1.0000044] [-8.861246e-06]\n",
            "140 1.3323465e-11 [1.0000044] [-8.861246e-06]\n",
            "160 1.3323465e-11 [1.0000044] [-8.861246e-06]\n",
            "180 1.3323465e-11 [1.0000044] [-8.861246e-06]\n",
            "200 1.3323465e-11 [1.0000044] [-8.861246e-06]\n",
            "220 1.3323465e-11 [1.0000044] [-8.861246e-06]\n",
            "240 1.3323465e-11 [1.0000044] [-8.861246e-06]\n",
            "260 1.3323465e-11 [1.0000044] [-8.861246e-06]\n",
            "280 1.3323465e-11 [1.0000044] [-8.861246e-06]\n",
            "300 1.3323465e-11 [1.0000044] [-8.861246e-06]\n",
            "320 1.3323465e-11 [1.0000044] [-8.861246e-06]\n",
            "340 1.3323465e-11 [1.0000044] [-8.861246e-06]\n",
            "360 1.3323465e-11 [1.0000044] [-8.861246e-06]\n",
            "380 1.3323465e-11 [1.0000044] [-8.861246e-06]\n",
            "400 1.3323465e-11 [1.0000044] [-8.861246e-06]\n",
            "420 1.3323465e-11 [1.0000044] [-8.861246e-06]\n",
            "440 1.3323465e-11 [1.0000044] [-8.861246e-06]\n",
            "460 1.3323465e-11 [1.0000044] [-8.861246e-06]\n",
            "480 1.3323465e-11 [1.0000044] [-8.861246e-06]\n",
            "500 1.3323465e-11 [1.0000044] [-8.861246e-06]\n",
            "520 1.3323465e-11 [1.0000044] [-8.861246e-06]\n",
            "540 1.3323465e-11 [1.0000044] [-8.861246e-06]\n",
            "560 1.3323465e-11 [1.0000044] [-8.861246e-06]\n",
            "580 1.3323465e-11 [1.0000044] [-8.861246e-06]\n",
            "600 1.3323465e-11 [1.0000044] [-8.861246e-06]\n",
            "620 1.3323465e-11 [1.0000044] [-8.861246e-06]\n",
            "640 1.3323465e-11 [1.0000044] [-8.861246e-06]\n",
            "660 1.3323465e-11 [1.0000044] [-8.861246e-06]\n",
            "680 1.3323465e-11 [1.0000044] [-8.861246e-06]\n",
            "700 1.3323465e-11 [1.0000044] [-8.861246e-06]\n",
            "720 1.3323465e-11 [1.0000044] [-8.861246e-06]\n",
            "740 1.3323465e-11 [1.0000044] [-8.861246e-06]\n",
            "760 1.3323465e-11 [1.0000044] [-8.861246e-06]\n",
            "780 1.3323465e-11 [1.0000044] [-8.861246e-06]\n",
            "800 1.3323465e-11 [1.0000044] [-8.861246e-06]\n",
            "820 1.3323465e-11 [1.0000044] [-8.861246e-06]\n",
            "840 1.3323465e-11 [1.0000044] [-8.861246e-06]\n",
            "860 1.3323465e-11 [1.0000044] [-8.861246e-06]\n",
            "880 1.3323465e-11 [1.0000044] [-8.861246e-06]\n",
            "900 1.3323465e-11 [1.0000044] [-8.861246e-06]\n",
            "920 1.3323465e-11 [1.0000044] [-8.861246e-06]\n",
            "940 1.3323465e-11 [1.0000044] [-8.861246e-06]\n",
            "960 1.3323465e-11 [1.0000044] [-8.861246e-06]\n",
            "980 1.3323465e-11 [1.0000044] [-8.861246e-06]\n",
            "1000 1.3323465e-11 [1.0000044] [-8.861246e-06]\n",
            "1020 1.3323465e-11 [1.0000044] [-8.861246e-06]\n",
            "1040 1.3323465e-11 [1.0000044] [-8.861246e-06]\n",
            "1060 1.3323465e-11 [1.0000044] [-8.861246e-06]\n",
            "1080 1.3323465e-11 [1.0000044] [-8.861246e-06]\n",
            "1100 1.3323465e-11 [1.0000044] [-8.861246e-06]\n",
            "1120 1.3323465e-11 [1.0000044] [-8.861246e-06]\n",
            "1140 1.3323465e-11 [1.0000044] [-8.861246e-06]\n",
            "1160 1.3323465e-11 [1.0000044] [-8.861246e-06]\n",
            "1180 1.3323465e-11 [1.0000044] [-8.861246e-06]\n",
            "1200 1.3323465e-11 [1.0000044] [-8.861246e-06]\n",
            "1220 1.3323465e-11 [1.0000044] [-8.861246e-06]\n",
            "1240 1.3323465e-11 [1.0000044] [-8.861246e-06]\n",
            "1260 1.3323465e-11 [1.0000044] [-8.861246e-06]\n",
            "1280 1.3323465e-11 [1.0000044] [-8.861246e-06]\n",
            "1300 1.3323465e-11 [1.0000044] [-8.861246e-06]\n",
            "1320 1.3323465e-11 [1.0000044] [-8.861246e-06]\n",
            "1340 1.3323465e-11 [1.0000044] [-8.861246e-06]\n",
            "1360 1.3323465e-11 [1.0000044] [-8.861246e-06]\n",
            "1380 1.3323465e-11 [1.0000044] [-8.861246e-06]\n",
            "1400 1.3323465e-11 [1.0000044] [-8.861246e-06]\n",
            "1420 1.3323465e-11 [1.0000044] [-8.861246e-06]\n",
            "1440 1.3323465e-11 [1.0000044] [-8.861246e-06]\n",
            "1460 1.3323465e-11 [1.0000044] [-8.861246e-06]\n",
            "1480 1.3323465e-11 [1.0000044] [-8.861246e-06]\n",
            "1500 1.3323465e-11 [1.0000044] [-8.861246e-06]\n",
            "1520 1.3323465e-11 [1.0000044] [-8.861246e-06]\n",
            "1540 1.3323465e-11 [1.0000044] [-8.861246e-06]\n",
            "1560 1.3323465e-11 [1.0000044] [-8.861246e-06]\n",
            "1580 1.3323465e-11 [1.0000044] [-8.861246e-06]\n",
            "1600 1.3323465e-11 [1.0000044] [-8.861246e-06]\n",
            "1620 1.3323465e-11 [1.0000044] [-8.861246e-06]\n",
            "1640 1.3323465e-11 [1.0000044] [-8.861246e-06]\n",
            "1660 1.3323465e-11 [1.0000044] [-8.861246e-06]\n",
            "1680 1.3323465e-11 [1.0000044] [-8.861246e-06]\n",
            "1700 1.3323465e-11 [1.0000044] [-8.861246e-06]\n",
            "1720 1.3323465e-11 [1.0000044] [-8.861246e-06]\n",
            "1740 1.3323465e-11 [1.0000044] [-8.861246e-06]\n",
            "1760 1.3323465e-11 [1.0000044] [-8.861246e-06]\n",
            "1780 1.3323465e-11 [1.0000044] [-8.861246e-06]\n",
            "1800 1.3323465e-11 [1.0000044] [-8.861246e-06]\n",
            "1820 1.3323465e-11 [1.0000044] [-8.861246e-06]\n",
            "1840 1.3323465e-11 [1.0000044] [-8.861246e-06]\n",
            "1860 1.3323465e-11 [1.0000044] [-8.861246e-06]\n",
            "1880 1.3323465e-11 [1.0000044] [-8.861246e-06]\n",
            "1900 1.3323465e-11 [1.0000044] [-8.861246e-06]\n",
            "1920 1.3323465e-11 [1.0000044] [-8.861246e-06]\n",
            "1940 1.3323465e-11 [1.0000044] [-8.861246e-06]\n",
            "1960 1.3323465e-11 [1.0000044] [-8.861246e-06]\n",
            "1980 1.3323465e-11 [1.0000044] [-8.861246e-06]\n",
            "2000 1.3323465e-11 [1.0000044] [-8.861246e-06]\n"
          ]
        }
      ]
    },
    {
      "cell_type": "markdown",
      "source": [
        "# Gradient Descent Algorithm\n",
        ": 경사하강법(경사를 따라 내려가는 알고리즘)\n",
        "\n",
        "    : 주어진 cost function을 최소화하는데 사용됨\n",
        "      cost를 가장 작게 만드는 W,b를 찾는 것이다.\n",
        "      랜덤한 지점에서 시작하고, W와 b의 값을 조금씩 바꾸면서 cost의 값을 줄인다. \n",
        "      -> 어떤 점에서 시작하든지, 항상 최저점에 도달할 수 있다는게 이 알고리즘의 장점이다. \n",
        "\n",
        "      + 경사하강법(Gradient Descent)은 적절한 직선의 방정식을 찾기 위해 기울기(변화율)를 사용하여 모델을 조정하는 최적화 알고리즘이다.  \n",
        "      손실함수(Loss Function)가 정의되었을 때, 손실함수의 값이 최소가 되는 지점을 찾아가는 방법이다. \n",
        "      (손실함수란 예상값과 실제 타깃값의 차이를 함수로 정의한 것을 뜻한다.)\n",
        "\n",
        "\n",
        "![image.png](data:image/png;base64,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)\n",
        "\n",
        "\n",
        "![image.png](data:image/png;base64,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)\n",
        "\n",
        "alpha = learning_rate\n",
        "\n",
        "cost함수를 미분해서(해당 점에서의 기울기를 구해서) 기울기가 음수라면, W에 값을 더해서 큰 값으로 움직여주며 W의 값을 이동시켜준다. "
      ],
      "metadata": {
        "id": "z5o8elz8v0R7"
      }
    },
    {
      "cell_type": "markdown",
      "source": [
        "# Lab03"
      ],
      "metadata": {
        "id": "xGEUUfMl0bQ4"
      }
    },
    {
      "cell_type": "code",
      "source": [
        "import tensorflow.compat.v1 as tf\n",
        "tf.disable_v2_behavior()\n",
        "import matplotlib.pyplot as plt\n",
        "X = [1, 2, 3]\n",
        "Y = [1, 2, 3]\n",
        "\n",
        "W = tf.placeholder(tf.float32)\n",
        "hypothesis = X * W\n",
        "\n",
        "cost = tf.reduce_mean(tf.square(hypothesis-Y))\n",
        "sess = tf.Session()\n",
        "sess.run(tf.global_variables_initializer())\n",
        "\n",
        "W_val = []  # W의 값과, cost의 값을 저장해 그래프를 그린다.\n",
        "cost_val = []\n",
        "for i in range(-30, 50):  # W가 -3~5까지 이동하며 움직인다\n",
        "  feed_W = i * 0.1\n",
        "  curr_cost, curr_W = sess.run([cost, W], feed_dict={W: feed_W})\n",
        "  W_val.append(curr_W)  # 리스트에 값을 넣고 확인\n",
        "  cost_val.append(curr_cost)\n",
        "\n",
        "plt.plot(W_val, cost_val)\n",
        "plt.show()"
      ],
      "metadata": {
        "colab": {
          "base_uri": "https://localhost:8080/",
          "height": 265
        },
        "id": "Z7B3123Yj8e8",
        "outputId": "2054b753-6c1f-4af0-a5f0-8cca18024991"
      },
      "execution_count": null,
      "outputs": [
        {
          "output_type": "display_data",
          "data": {
            "image/png": "[encoded data removed]",
            "text/plain": [
              "<Figure size 432x288 with 1 Axes>"
            ]
          },
          "metadata": {
            "needs_background": "light"
          }
        }
      ]
    },
    {
      "cell_type": "markdown",
      "source": [
        "![image.png](data:image/png;base64,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)"
      ],
      "metadata": {
        "id": "_UQkxPBR_dbG"
      }
    },
    {
      "cell_type": "code",
      "source": [
        "import tensorflow.compat.v1 as tf\n",
        "tf.disable_v2_behavior()\n",
        "x_data = [1, 2, 3]\n",
        "y_data = [1, 2, 3]\n",
        "\n",
        "W = tf.Variable(tf.random_normal([1]), name='weight')\n",
        "X = tf.placeholder(tf.float32)\n",
        "Y = tf.placeholder(tf.float32)\n",
        "hypothesis = X * W\n",
        "\n",
        "cost = tf.reduce_mean(tf.square(hypothesis-Y))\n",
        "\n",
        "# 텐서플로우 구현 방법\n",
        "learning_rate = 0.1  # alpha\n",
        "gradient = tf.reduce_mean((W*X - Y) * X)\n",
        "descent = W - learning_rate * gradient\n",
        "update = W.assign(descent)\n",
        "\n",
        "# 직접 미분할 필요X -> 텐서플로우에 있는 optimizer이용 \n",
        "optimizer = tf.train.GradientDescentOptimizer(learning_rate=0.1)\n",
        "train = optimizer.minimize(cost)\n",
        "\n",
        "\n",
        "# 그래프이기에 session 사용\n",
        "sess = tf.Session()\n",
        "sess.run(tf.global_variables_initializer())\n",
        "for step in range(21):\n",
        "  sess.run(update, feed_dict={X : x_data, Y : y_data})  # 값을 업데이트 시켜준다\n",
        "  print(step, sess.run(cost, feed_dict={X : x_data, Y : y_data}), sess.run(W))"
      ],
      "metadata": {
        "colab": {
          "base_uri": "https://localhost:8080/"
        },
        "id": "GXriS6-g7cX5",
        "outputId": "27e4d0f9-cc53-48ef-d975-3dca1928d0de"
      },
      "execution_count": null,
      "outputs": [
        {
          "output_type": "stream",
          "name": "stdout",
          "text": [
            "0 8.145917 [-0.32119405]\n",
            "1 2.3170614 [0.29536313]\n",
            "2 0.6590752 [0.62419367]\n",
            "3 0.18747032 [0.79956996]\n",
            "4 0.053324923 [0.89310396]\n",
            "5 0.015167959 [0.9429888]\n",
            "6 0.004314428 [0.96959406]\n",
            "7 0.0012272185 [0.9837835]\n",
            "8 0.0003490748 [0.9913512]\n",
            "9 9.9291996e-05 [0.9953873]\n",
            "10 2.824419e-05 [0.9975399]\n",
            "11 8.034039e-06 [0.9986879]\n",
            "12 2.2850893e-06 [0.99930024]\n",
            "13 6.499563e-07 [0.9996268]\n",
            "14 1.8481792e-07 [0.999801]\n",
            "15 5.2601646e-08 [0.99989384]\n",
            "16 1.494935e-08 [0.9999434]\n",
            "17 4.258099e-09 [0.9999698]\n",
            "18 1.204801e-09 [0.9999839]\n",
            "19 3.43789e-10 [0.9999914]\n",
            "20 9.884715e-11 [0.9999954]\n"
          ]
        }
      ]
    },
    {
      "cell_type": "code",
      "source": [
        "# W가 5일때의 예제\n",
        "X = [1, 2, 3]\n",
        "Y = [1, 2, 3]\n",
        "\n",
        "W = tf.Variable(5.0)\n",
        "hypothesis = X * W\n",
        "cost = tf.reduce_mean(tf.square(hypothesis-Y))\n",
        "\n",
        "# minimize : gradient descent magic \n",
        "optimizer = tf.train.GradientDescentOptimizer(learning_rate=0.1)\n",
        "train = optimizer.minimize(cost)\n",
        "\n",
        "sess = tf.Session()\n",
        "sess.run(tf.global_variables_initializer())\n",
        "for step in range(100):\n",
        "  print(step, sess.run(W))\n",
        "  sess.run(train)"
      ],
      "metadata": {
        "colab": {
          "base_uri": "https://localhost:8080/"
        },
        "id": "tdEQhpFw_vhJ",
        "outputId": "8d6b584c-a045-4f63-af96-2b9023942fee"
      },
      "execution_count": null,
      "outputs": [
        {
          "output_type": "stream",
          "name": "stdout",
          "text": [
            "0 5.0\n",
            "1 1.2666664\n",
            "2 1.0177778\n",
            "3 1.0011852\n",
            "4 1.000079\n",
            "5 1.0000052\n",
            "6 1.0000004\n",
            "7 1.0\n",
            "8 1.0\n",
            "9 1.0\n",
            "10 1.0\n",
            "11 1.0\n",
            "12 1.0\n",
            "13 1.0\n",
            "14 1.0\n",
            "15 1.0\n",
            "16 1.0\n",
            "17 1.0\n",
            "18 1.0\n",
            "19 1.0\n",
            "20 1.0\n",
            "21 1.0\n",
            "22 1.0\n",
            "23 1.0\n",
            "24 1.0\n",
            "25 1.0\n",
            "26 1.0\n",
            "27 1.0\n",
            "28 1.0\n",
            "29 1.0\n",
            "30 1.0\n",
            "31 1.0\n",
            "32 1.0\n",
            "33 1.0\n",
            "34 1.0\n",
            "35 1.0\n",
            "36 1.0\n",
            "37 1.0\n",
            "38 1.0\n",
            "39 1.0\n",
            "40 1.0\n",
            "41 1.0\n",
            "42 1.0\n",
            "43 1.0\n",
            "44 1.0\n",
            "45 1.0\n",
            "46 1.0\n",
            "47 1.0\n",
            "48 1.0\n",
            "49 1.0\n",
            "50 1.0\n",
            "51 1.0\n",
            "52 1.0\n",
            "53 1.0\n",
            "54 1.0\n",
            "55 1.0\n",
            "56 1.0\n",
            "57 1.0\n",
            "58 1.0\n",
            "59 1.0\n",
            "60 1.0\n",
            "61 1.0\n",
            "62 1.0\n",
            "63 1.0\n",
            "64 1.0\n",
            "65 1.0\n",
            "66 1.0\n",
            "67 1.0\n",
            "68 1.0\n",
            "69 1.0\n",
            "70 1.0\n",
            "71 1.0\n",
            "72 1.0\n",
            "73 1.0\n",
            "74 1.0\n",
            "75 1.0\n",
            "76 1.0\n",
            "77 1.0\n",
            "78 1.0\n",
            "79 1.0\n",
            "80 1.0\n",
            "81 1.0\n",
            "82 1.0\n",
            "83 1.0\n",
            "84 1.0\n",
            "85 1.0\n",
            "86 1.0\n",
            "87 1.0\n",
            "88 1.0\n",
            "89 1.0\n",
            "90 1.0\n",
            "91 1.0\n",
            "92 1.0\n",
            "93 1.0\n",
            "94 1.0\n",
            "95 1.0\n",
            "96 1.0\n",
            "97 1.0\n",
            "98 1.0\n",
            "99 1.0\n"
          ]
        }
      ]
    }
  ]
}