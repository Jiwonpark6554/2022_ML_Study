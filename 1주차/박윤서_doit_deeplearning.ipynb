{
 "cells": [
  {
   "cell_type": "code",
   "execution_count": 3,
   "id": "2b68da2f",
   "metadata": {},
   "outputs": [],
   "source": [
    "import numpy as np\n",
    "import matplotlib as plt\n",
    "from sklearn.datasets import load_diabetes"
   ]
  },
  {
   "cell_type": "code",
   "execution_count": 7,
   "id": "1a163545",
   "metadata": {},
   "outputs": [
    {
     "data": {
      "text/plain": [
       "array([-0.11647259, -2.19343966, -1.34873241,  0.56863359, -1.06472858,\n",
       "       -1.9129193 ,  0.26149217, -0.85698497, -0.36492841,  0.25682643,\n",
       "       -0.15860421,  0.00407983,  0.83679665, -0.89042118, -0.88333244,\n",
       "        1.18177984,  0.03133952, -1.17474206, -2.19034264,  0.49741229,\n",
       "        2.12213419,  0.66402148, -2.01171083, -0.92198855,  0.25628927,\n",
       "       -0.10174066,  0.51906379,  0.25470521,  0.9526789 ,  1.64440932,\n",
       "        0.32965387, -0.86237962, -0.31883081, -0.13271261, -0.72597487,\n",
       "        0.13028932, -0.11034624, -0.19321746,  0.95185146,  1.11757101,\n",
       "       -0.1953981 ,  0.06449861, -1.55321428,  0.77190214,  0.47906639,\n",
       "       -0.56392802, -1.4919701 ,  1.15569213,  0.57871874,  0.51938325,\n",
       "       -0.20490432, -2.1776925 , -0.57831038, -1.4094995 , -1.0178061 ,\n",
       "       -1.6973559 , -0.96090362, -0.95432864,  0.81683287,  0.43881656,\n",
       "        0.17242129,  0.43333988,  0.20721179, -1.21194384,  1.88344809,\n",
       "       -0.16906091,  0.37689083, -0.46691463,  0.53968287, -1.1269455 ,\n",
       "       -0.60336933,  0.57003582,  0.73156567, -0.78743491, -0.96771747,\n",
       "       -0.13476636, -0.0143741 , -2.03650327, -1.64677867,  0.40780654,\n",
       "        0.42327013, -1.66371571,  0.69763052,  1.00688041,  0.49412773,\n",
       "        1.20897602, -0.6151518 ,  0.3124184 ,  0.39448928, -0.69981023,\n",
       "       -0.46811322, -1.02451624,  0.36302689, -1.07711112, -0.7445268 ,\n",
       "        0.56423337,  0.18220599, -1.08863517,  1.03160813, -0.49551184])"
      ]
     },
     "execution_count": 7,
     "metadata": {},
     "output_type": "execute_result"
    }
   ],
   "source": [
    "np.random.randn(100) #정규분포를 따르는 난수 100개"
   ]
  },
  {
   "cell_type": "markdown",
   "id": "5894755a",
   "metadata": {},
   "source": [
    "# 3장"
   ]
  },
  {
   "cell_type": "markdown",
   "id": "ce3f93f2",
   "metadata": {},
   "source": [
    "## 선형회귀"
   ]
  },
  {
   "cell_type": "code",
   "execution_count": 4,
   "id": "4bb3c164",
   "metadata": {},
   "outputs": [],
   "source": [
    "diabetes=load_diabetes()"
   ]
  },
  {
   "cell_type": "code",
   "execution_count": 7,
   "id": "4ccf3940",
   "metadata": {},
   "outputs": [
    {
     "data": {
      "text/plain": [
       "(442,)"
      ]
     },
     "execution_count": 7,
     "metadata": {},
     "output_type": "execute_result"
    }
   ],
   "source": [
    "diabetes.data.shape\n",
    "diabetes.target.shape"
   ]
  },
  {
   "cell_type": "code",
   "execution_count": 5,
   "id": "909413a9",
   "metadata": {},
   "outputs": [
    {
     "data": {
      "image/png": "[encoded data removed]",
      "text/plain": [
       "<Figure size 432x288 with 1 Axes>"
      ]
     },
     "metadata": {
      "needs_background": "light"
     },
     "output_type": "display_data"
    }
   ],
   "source": [
    "#2차원 시각화\n",
    "import matplotlib.pyplot as plt\n",
    "plt.scatter(diabetes.data[:,2],diabetes.target)\n",
    "plt.xlabel('x')\n",
    "plt.ylabel('y')\n",
    "plt.show()"
   ]
  },
  {
   "cell_type": "code",
   "execution_count": 8,
   "id": "424cfdb1",
   "metadata": {},
   "outputs": [],
   "source": [
    "x=diabetes.data[:,2]\n",
    "y=diabetes.target"
   ]
  },
  {
   "cell_type": "markdown",
   "id": "cc739b1e",
   "metadata": {},
   "source": [
    "# 경사하강법"
   ]
  },
  {
   "cell_type": "markdown",
   "id": "30ea455c",
   "metadata": {},
   "source": [
    "선형회귀\n",
    "\n",
    "y = ax+b\n",
    "y^= wx+b (w: 가중치, 계수)\n",
    "\n",
    "1) 무작위로 w, b를 정하고 샘플 하나 정해서 y^ 계산\n",
    "2) 진짜 y와 비교하여  w, b 조정\n",
    "3) 모든 샘플 처리할 때까지 반복"
   ]
  },
  {
   "cell_type": "code",
   "execution_count": 14,
   "id": "e204ceb7",
   "metadata": {},
   "outputs": [
    {
     "data": {
      "text/plain": [
       "1.0616962065186886"
      ]
     },
     "execution_count": 14,
     "metadata": {},
     "output_type": "execute_result"
    }
   ],
   "source": [
    "w,b=(1.0,1.0) #로 가정\n",
    "y_hat = x[0]*w+b\n",
    "y_hat #예측 값"
   ]
  },
  {
   "cell_type": "code",
   "execution_count": 13,
   "id": "c90adb3c",
   "metadata": {},
   "outputs": [
    {
     "data": {
      "text/plain": [
       "151.0"
      ]
     },
     "execution_count": 13,
     "metadata": {},
     "output_type": "execute_result"
    }
   ],
   "source": [
    "y[0] #실제 값과 차이 많이 남"
   ]
  },
  {
   "cell_type": "code",
   "execution_count": 15,
   "id": "7d7a5405",
   "metadata": {},
   "outputs": [
    {
     "data": {
      "text/plain": [
       "1.0678658271705574"
      ]
     },
     "execution_count": 15,
     "metadata": {},
     "output_type": "execute_result"
    }
   ],
   "source": [
    "#w를 0.1만큼 증가시켜보자\n",
    "w_inc=w+0.1\n",
    "y_hat_inc=x[0]*w_inc+b\n",
    "y_hat_inc #실제값과 조금 더 가까워짐"
   ]
  },
  {
   "cell_type": "code",
   "execution_count": 16,
   "id": "db3d9db5",
   "metadata": {},
   "outputs": [
    {
     "data": {
      "text/plain": [
       "0.061696206518688734"
      ]
     },
     "execution_count": 16,
     "metadata": {},
     "output_type": "execute_result"
    }
   ],
   "source": [
    "#변화율은?\n",
    "w_rate=(y_hat_inc-y_hat)/ (w_inc-w)\n",
    "w_rate #=x[0]"
   ]
  },
  {
   "cell_type": "code",
   "execution_count": 17,
   "id": "144133b6",
   "metadata": {},
   "outputs": [
    {
     "data": {
      "text/plain": [
       "0.0616962065186885"
      ]
     },
     "execution_count": 17,
     "metadata": {},
     "output_type": "execute_result"
    }
   ],
   "source": [
    "w_new= w+w_rate"
   ]
  },
  {
   "cell_type": "code",
   "execution_count": 20,
   "id": "964ae1b8",
   "metadata": {},
   "outputs": [],
   "source": [
    "#절편 업데이트\n",
    "b_inc=b+0.1\n",
    "y_hat_inc=x[0]*w_inc+b_inc\n",
    "b_rate=(y_hat_inc-y_hat)/ (b_inc-b)\n",
    "\n",
    "b_new=b+b_rate\n",
    "\n",
    "# *y_hat<y 일 경우\n",
    "# 반대일 경우 w,b 를 감소시켜야"
   ]
  },
  {
   "cell_type": "code",
   "execution_count": 21,
   "id": "8141e6df",
   "metadata": {},
   "outputs": [
    {
     "name": "stdout",
     "output_type": "stream",
     "text": [
      "10.250624555904514 150.9383037934813\n"
     ]
    }
   ],
   "source": [
    "##오차\n",
    "err=y[0]-y_hat\n",
    "w_new=w+w_rate*err\n",
    "b_new=b+1*err\n",
    "print(w_new,b_new)"
   ]
  },
  {
   "cell_type": "code",
   "execution_count": null,
   "id": "1dc437fc",
   "metadata": {},
   "outputs": [],
   "source": [
    "#두번쨰 샘플\n",
    "y_hat=x[1]*w_new+b_new\n",
    "err=y[1]-y_hat\n",
    "w_rate=x[1]\n",
    "w_new=w_new+w_rate*err\n",
    "b_new=b_new+1*err"
   ]
  },
  {
   "cell_type": "code",
   "execution_count": 22,
   "id": "b88a792e",
   "metadata": {},
   "outputs": [
    {
     "name": "stdout",
     "output_type": "stream",
     "text": [
      "587.8654539985689 99.40935564531424\n"
     ]
    }
   ],
   "source": [
    "#확장\n",
    "for x_i, y_i in zip(x,y):\n",
    "    y_hat=x_i*w+b\n",
    "    err=y_i-y_hat\n",
    "    w_rate=x_i\n",
    "    w=w+w_rate*err\n",
    "    b=b+1*err\n",
    "print(w,b)"
   ]
  },
  {
   "cell_type": "code",
   "execution_count": 24,
   "id": "75d0d59f",
   "metadata": {},
   "outputs": [
    {
     "data": {
      "image/png": "[encoded data removed]",
      "text/plain": [
       "<Figure size 432x288 with 1 Axes>"
      ]
     },
     "metadata": {
      "needs_background": "light"
     },
     "output_type": "display_data"
    }
   ],
   "source": [
    "plt.scatter(x,y)\n",
    "pt1=(-0.1,-0.1*w+b)\n",
    "pt2=(0.15,0.15*w+b)\n",
    "\n",
    "plt.plot([pt1[0],pt2[0]],[pt1[1],pt2[1]])\n",
    "plt.show()"
   ]
  },
  {
   "cell_type": "code",
   "execution_count": 26,
   "id": "d3f96217",
   "metadata": {},
   "outputs": [
    {
     "name": "stdout",
     "output_type": "stream",
     "text": [
      "913.5973364345905 123.39414383177204\n"
     ]
    }
   ],
   "source": [
    "#확장\n",
    "for i in range(1,100):\n",
    "    for x_i, y_i in zip(x,y):\n",
    "        y_hat=x_i*w+b\n",
    "        err=y_i-y_hat\n",
    "        w_rate=x_i\n",
    "        w=w+w_rate*err\n",
    "        b=b+1*err\n",
    "print(w,b)\n",
    "\n",
    "#913.5x+123.4 회귀 모델"
   ]
  },
  {
   "cell_type": "code",
   "execution_count": 27,
   "id": "b1bf3f3d",
   "metadata": {},
   "outputs": [
    {
     "data": {
      "text/plain": [
       "287.8416643899983"
      ]
     },
     "execution_count": 27,
     "metadata": {},
     "output_type": "execute_result"
    }
   ],
   "source": [
    "#예측\n",
    "x_new=0.18\n",
    "y_pred=x_new*w+b\n",
    "y_pred"
   ]
  },
  {
   "cell_type": "code",
   "execution_count": 28,
   "id": "a43b1e77",
   "metadata": {},
   "outputs": [
    {
     "data": {
      "image/png": "[encoded data removed]",
      "text/plain": [
       "<Figure size 432x288 with 1 Axes>"
      ]
     },
     "metadata": {
      "needs_background": "light"
     },
     "output_type": "display_data"
    }
   ],
   "source": [
    "plt.scatter(x,y)\n",
    "plt.scatter(x_new,y_pred)\n",
    "plt.show()"
   ]
  },
  {
   "cell_type": "markdown",
   "id": "56eed5d4",
   "metadata": {},
   "source": [
    "# 손실함수"
   ]
  },
  {
   "cell_type": "markdown",
   "id": "59791b76",
   "metadata": {},
   "source": [
    "squared error : (y-y*)^\n",
    "제곱오차의 기울기가 0이 되는 지점이 최적\n",
    "미분시 -(y-y*)x :(그레디언트)\n",
    "\n",
    "w-SE'=w+(y-y*)x\n",
    "b=b+(y-y*)"
   ]
  },
  {
   "cell_type": "code",
   "execution_count": 43,
   "id": "da9e381b",
   "metadata": {},
   "outputs": [],
   "source": [
    "class Neuron:\n",
    "    def __init__(self): #초기화\n",
    "        self.w=1.0\n",
    "        self.b=1.0\n",
    "    \n",
    "    def forpass(self,x): #정방향 계산\n",
    "        y_hat=x*self.w+self.b\n",
    "        return y_hat\n",
    "    \n",
    "    def backprop(self, x, err): #역방향 계산\n",
    "        w_grad=x*err #가중치 업데이트 -(y-y*)x\n",
    "        b_grad=1*err #절편  업데이트 -(y-y*)\n",
    "        return w_grad, b_grad\n",
    "\n",
    "    def fit(self,x,y,epochs=100):     #훈련을 위한 메서드\n",
    "        for i in range(epochs):          #에포크 반복\n",
    "            for x_i, y_i in zip(x,y):     #샘플 반복\n",
    "                y_hat = self.forpass(x_i) #정방향 계산\n",
    "                err= -(y_i - y_hat)          #오차계산\n",
    "                w_grad, b_grad=self.backprop(x_i,err)#역방향 계산\n",
    "                self.w-=w_grad            #가중치 업데이트\n",
    "                self.b-=b_grad            #절편 업데이트"
   ]
  },
  {
   "cell_type": "code",
   "execution_count": 44,
   "id": "c4d8b1b5",
   "metadata": {},
   "outputs": [],
   "source": [
    "neuron=Neuron()\n",
    "neuron.fit(x,y)"
   ]
  },
  {
   "cell_type": "code",
   "execution_count": 46,
   "id": "fbcf2c15",
   "metadata": {},
   "outputs": [
    {
     "data": {
      "image/png": "[encoded data removed]",
      "text/plain": [
       "<Figure size 432x288 with 1 Axes>"
      ]
     },
     "metadata": {
      "needs_background": "light"
     },
     "output_type": "display_data"
    }
   ],
   "source": [
    "plt.scatter(x,y)\n",
    "pt1=(-0.1,-0.1*neuron.w+neuron.b)\n",
    "pt2=(0.15,0.15*neuron.w+neuron.b)\n",
    "plt.plot([pt1[0],pt2[0]],[pt1[1],pt2[1]])\n",
    "plt.show()"
   ]
  },
  {
   "cell_type": "code",
   "execution_count": 42,
   "id": "5fcbdeeb",
   "metadata": {},
   "outputs": [
    {
     "data": {
      "text/plain": [
       "(3, 3)"
      ]
     },
     "execution_count": 42,
     "metadata": {},
     "output_type": "execute_result"
    }
   ],
   "source": []
  },
  {
   "cell_type": "code",
   "execution_count": null,
   "id": "ced047ac",
   "metadata": {},
   "outputs": [],
   "source": []
  },
  {
   "cell_type": "code",
   "execution_count": null,
   "id": "5cd659f4",
   "metadata": {},
   "outputs": [],
   "source": []
  },
  {
   "cell_type": "code",
   "execution_count": null,
   "id": "cb9a4a92",
   "metadata": {},
   "outputs": [],
   "source": []
  },
  {
   "cell_type": "code",
   "execution_count": null,
   "id": "9aad9fa5",
   "metadata": {},
   "outputs": [],
   "source": []
  },
  {
   "cell_type": "code",
   "execution_count": null,
   "id": "74d34f91",
   "metadata": {},
   "outputs": [],
   "source": []
  },
  {
   "cell_type": "code",
   "execution_count": null,
   "id": "b0449f41",
   "metadata": {},
   "outputs": [],
   "source": []
  },
  {
   "cell_type": "code",
   "execution_count": null,
   "id": "19b9117a",
   "metadata": {},
   "outputs": [],
   "source": []
  },
  {
   "cell_type": "code",
   "execution_count": null,
   "id": "380e0f6e",
   "metadata": {},
   "outputs": [],
   "source": []
  },
  {
   "cell_type": "code",
   "execution_count": null,
   "id": "8863a302",
   "metadata": {},
   "outputs": [],
   "source": []
  },
  {
   "cell_type": "code",
   "execution_count": null,
   "id": "673b30a7",
   "metadata": {},
   "outputs": [],
   "source": []
  }
 ],
 "metadata": {
  "kernelspec": {
   "display_name": "Python 3 (ipykernel)",
   "language": "python",
   "name": "python3"
  },
  "language_info": {
   "codemirror_mode": {
    "name": "ipython",
    "version": 3
   },
   "file_extension": ".py",
   "mimetype": "text/x-python",
   "name": "python",
   "nbconvert_exporter": "python",
   "pygments_lexer": "ipython3",
   "version": "3.9.7"
  }
 },
 "nbformat": 4,
 "nbformat_minor": 5
}
